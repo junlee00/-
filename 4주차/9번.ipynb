{
 "cells": [
  {
   "cell_type": "code",
   "execution_count": 6,
   "id": "2ecb8b69",
   "metadata": {},
   "outputs": [],
   "source": [
    "import skimage\n",
    "import numpy as np\n",
    "import cv2 as cv\n",
    "\n",
    "img=skimage.data.coffee()\n",
    "\n",
    "slic1=skimage.segmentation.slic(img,compactness=20,n_segments=600)\n",
    "sp_img1=skimage.segmentation.mark_boundaries(img,slic1)\n",
    "sp_img1=np.uint8(sp_img1*255.0)\n",
    "\n",
    "slic2=skimage.segmentation.slic(img,compactness=40,n_segments=1000)\n",
    "sp_img2=skimage.segmentation.mark_boundaries(img,slic2)\n",
    "sp_img2=np.uint8(sp_img2*255.0)\n",
    "\n",
    "cv.imshow('Super pixels (compact 20, n_segments 600)',cv.cvtColor(sp_img1,cv.COLOR_RGB2BGR))\n",
    "cv.imshow('Super pixels (compact 40, n_segments 1000)',cv.cvtColor(sp_img2,cv.COLOR_RGB2BGR))\n",
    "\n",
    "cv.waitKey()\n",
    "cv.destroyAllWindows()"
   ]
  },
  {
   "cell_type": "markdown",
   "id": "168d32aa",
   "metadata": {},
   "source": [
    "compactness 매개 변수는 인접한 픽셀 간의 색상 차이와 공간 차이를 균형 있게 고려하는 값이다. compactness 값이 작을수록 인접한 픽셀 간의 색상 차이가 더 중요해지므로 더 많은 세그먼트가 생성된다. compactness 값이 커질수록 공간 차이가 더 중요해지므로 더 적은 세그먼트가 생성된다.\n",
    "\n",
    "n_segments 매개 변수는 생성할 세그먼트의 수를 지정한다. 이 값이 높을수록 더 작은 크기의 세그먼트가 생성된다."
   ]
  },
  {
   "cell_type": "code",
   "execution_count": null,
   "id": "1fd9e6dd",
   "metadata": {},
   "outputs": [],
   "source": []
  }
 ],
 "metadata": {
  "kernelspec": {
   "display_name": "Python 3 (ipykernel)",
   "language": "python",
   "name": "python3"
  },
  "language_info": {
   "codemirror_mode": {
    "name": "ipython",
    "version": 3
   },
   "file_extension": ".py",
   "mimetype": "text/x-python",
   "name": "python",
   "nbconvert_exporter": "python",
   "pygments_lexer": "ipython3",
   "version": "3.10.6"
  }
 },
 "nbformat": 4,
 "nbformat_minor": 5
}
