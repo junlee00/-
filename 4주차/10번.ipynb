{
 "cells": [
  {
   "cell_type": "code",
   "execution_count": 4,
   "id": "ba338a1d",
   "metadata": {},
   "outputs": [
    {
     "ename": "error",
     "evalue": "OpenCV(4.7.0) D:\\a\\opencv-python\\opencv-python\\opencv\\modules\\highgui\\src\\window_w32.cpp:2558: error: (-27:Null pointer) NULL window: 'Painting' in function 'cvSetMouseCallback'\n",
     "output_type": "error",
     "traceback": [
      "\u001b[1;31m---------------------------------------------------------------------------\u001b[0m",
      "\u001b[1;31merror\u001b[0m                                     Traceback (most recent call last)",
      "Input \u001b[1;32mIn [4]\u001b[0m, in \u001b[0;36m<cell line: 54>\u001b[1;34m()\u001b[0m\n\u001b[0;32m     52\u001b[0m cv\u001b[38;5;241m.\u001b[39msetMouseCallback(\u001b[38;5;124m'\u001b[39m\u001b[38;5;124mPainting\u001b[39m\u001b[38;5;124m'\u001b[39m, update_mask)\n\u001b[0;32m     54\u001b[0m \u001b[38;5;28;01mwhile\u001b[39;00m \u001b[38;5;28;01mTrue\u001b[39;00m:\n\u001b[1;32m---> 55\u001b[0m     \u001b[43mgrabcut_iteration\u001b[49m\u001b[43m(\u001b[49m\u001b[43mimg\u001b[49m\u001b[43m,\u001b[49m\u001b[43m \u001b[49m\u001b[43mmask\u001b[49m\u001b[43m)\u001b[49m\n",
      "Input \u001b[1;32mIn [4]\u001b[0m, in \u001b[0;36mgrabcut_iteration\u001b[1;34m(img, mask)\u001b[0m\n\u001b[0;32m     46\u001b[0m     grab \u001b[38;5;241m=\u001b[39m img \u001b[38;5;241m*\u001b[39m mask2[:,:,np\u001b[38;5;241m.\u001b[39mnewaxis]\n\u001b[0;32m     47\u001b[0m     cv\u001b[38;5;241m.\u001b[39mimshow(\u001b[38;5;124m'\u001b[39m\u001b[38;5;124mGrab cut image\u001b[39m\u001b[38;5;124m'\u001b[39m, grab)\n\u001b[1;32m---> 49\u001b[0m \u001b[43mcv\u001b[49m\u001b[38;5;241;43m.\u001b[39;49m\u001b[43msetMouseCallback\u001b[49m\u001b[43m(\u001b[49m\u001b[38;5;124;43m'\u001b[39;49m\u001b[38;5;124;43mPainting\u001b[39;49m\u001b[38;5;124;43m'\u001b[39;49m\u001b[43m,\u001b[49m\u001b[43m \u001b[49m\u001b[43mupdate_mask\u001b[49m\u001b[43m)\u001b[49m\n",
      "\u001b[1;31merror\u001b[0m: OpenCV(4.7.0) D:\\a\\opencv-python\\opencv-python\\opencv\\modules\\highgui\\src\\window_w32.cpp:2558: error: (-27:Null pointer) NULL window: 'Painting' in function 'cvSetMouseCallback'\n"
     ]
    }
   ],
   "source": [
    "import cv2 as cv \n",
    "import numpy as np\n",
    "\n",
    "img = cv.imread('soccer.jpg')  # 영상 읽기\n",
    "img_show = np.copy(img)  # 붓 칠을 디스플레이할 목적의 영상\n",
    "mask = np.zeros((img.shape[0], img.shape[1]), np.uint8) \n",
    "mask[:, :] = cv.GC_PR_BGD  # 모든 화소를 배경일 것 같음으로 초기화\n",
    "BrushSiz = 9  # 붓의 크기\n",
    "LColor, RColor = (255, 0, 0), (0, 0, 255)  # 파란색(물체)과 빨간색(배경)\n",
    "\n",
    "def update_mask(event, x, y, flags, param):\n",
    "    global img_show, mask\n",
    "    \n",
    "    if event == cv.EVENT_LBUTTONDOWN:\n",
    "        cv.circle(img_show, (x,y), BrushSiz, LColor, -1)\n",
    "        cv.circle(mask, (x,y), BrushSiz, cv.GC_FGD, -1)\n",
    "    elif event == cv.EVENT_RBUTTONDOWN:\n",
    "        cv.circle(img_show, (x,y), BrushSiz, RColor, -1)\n",
    "        cv.circle(mask, (x,y), BrushSiz, cv.GC_BGD, -1)\n",
    "    elif event == cv.EVENT_MOUSEMOVE and flags == cv.EVENT_FLAG_LBUTTON:\n",
    "        cv.circle(img_show, (x,y), BrushSiz, LColor, -1)\n",
    "        cv.circle(mask, (x,y), BrushSiz, cv.GC_FGD, -1)\n",
    "    elif event == cv.EVENT_MOUSEMOVE and flags == cv.EVENT_FLAG_RBUTTON:\n",
    "        cv.circle(img_show, (x,y), BrushSiz, RColor, -1)\n",
    "        cv.circle(mask, (x,y), BrushSiz, cv.GC_BGD, -1)\n",
    "\n",
    "    cv.imshow('Painting', img_show)\n",
    "\n",
    "def grabcut_iteration(img, mask):\n",
    "    global BrushSiz, LColor, RColor\n",
    "    \n",
    "    while True:\n",
    "        cv.imshow('Painting', img_show)\n",
    "        key = cv.waitKey(1)\n",
    "\n",
    "        if key == ord('q'):\n",
    "            cv.destroyAllWindows()\n",
    "        elif key == ord('r'):\n",
    "            mask[:] = cv.GC_PR_BGD  # 모든 화소를 배경일 것 같음으로 초기화\n",
    "            img_show[:] = img  # 붓 칠을 디스플레이할 목적의 영상 초기화\n",
    "        elif key == ord('c'):\n",
    "            background = np.zeros((1, 65), np.float64)  # 배경 히스토그램 0으로 초기화\n",
    "            foreground = np.zeros((1, 65), np.float64)  # 물체 히스토그램 0으로 초기화\n",
    "            cv.grabCut(img, mask, None, background, foreground, 1, cv.GC_INIT_WITH_MASK)\n",
    "            mask2 = np.where((mask == cv.GC_BGD) | (mask == cv.GC_PR_BGD), 0, 1).astype('uint8')\n",
    "            grab = img * mask2[:,:,np.newaxis]\n",
    "            cv.imshow('Grab cut image', grab)\n",
    "    \n",
    "        cv.setMouseCallback('Painting', update_mask)\n",
    "\n",
    "cv.namedWindow('Painting')\n",
    "cv.setMouseCallback('Painting', update_mask)\n",
    "\n",
    "while True:\n",
    "    grabcut_iteration(img, mask)"
   ]
  },
  {
   "cell_type": "code",
   "execution_count": null,
   "id": "014fe291",
   "metadata": {},
   "outputs": [],
   "source": []
  }
 ],
 "metadata": {
  "kernelspec": {
   "display_name": "Python 3 (ipykernel)",
   "language": "python",
   "name": "python3"
  },
  "language_info": {
   "codemirror_mode": {
    "name": "ipython",
    "version": 3
   },
   "file_extension": ".py",
   "mimetype": "text/x-python",
   "name": "python",
   "nbconvert_exporter": "python",
   "pygments_lexer": "ipython3",
   "version": "3.10.6"
  }
 },
 "nbformat": 4,
 "nbformat_minor": 5
}
