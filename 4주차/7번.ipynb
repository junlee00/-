{
 "cells": [
  {
   "cell_type": "code",
   "execution_count": 5,
   "id": "8a43ff2c",
   "metadata": {},
   "outputs": [],
   "source": [
    "import cv2 as cv\n",
    "\n",
    "img=cv.imread('soccer.jpg')\n",
    "gray=cv.cvtColor(img,cv.COLOR_BGR2GRAY)\n",
    "\n",
    "grad_x=cv.Sobel(gray,cv.CV_32F,1,0,ksize=3)\t# 소벨 연산자 적용\n",
    "grad_y=cv.Sobel(gray,cv.CV_32F,0,1,ksize=3)\n",
    "\n",
    "grad1_x=cv.Scharr(gray,cv.CV_32F,1,0)\t# Scharr 연산자 적용\n",
    "grad1_y=cv.Scharr(gray,cv.CV_32F,0,1)\n",
    "\n",
    "sobel_x=cv.convertScaleAbs(grad_x)\t# 절대값을 취해 양수 영상으로 변환\n",
    "sobel_y=cv.convertScaleAbs(grad_y)\n",
    "scharr_x=cv.convertScaleAbs(grad1_x)\n",
    "scharr_y=cv.convertScaleAbs(grad1_y)\n",
    "\n",
    "edge_strength =cv.addWeighted(sobel_x,0.5,sobel_y,0.5,0)\t#sobel 에지 강도 계산\n",
    "edge_strength1 =cv.addWeighted(scharr_x,0.5,scharr_y,0.5,0)\t#scharr 에지 강도 계산\n",
    "\n",
    "cv.imshow('sobelx',sobel_x)\n",
    "# cv.imshow('sobely',sobel_y)\n",
    "cv.imshow('scharrx',scharr_x)\n",
    "# cv.imshow('scharry',scharr_y)\n",
    "cv.imshow('edge strength_sobel',edge_strength)\n",
    "cv.imshow('edge strength_Scharr',edge_strength1)\n",
    "\n",
    "cv.waitKey()\n",
    "cv.destroyAllWindows()"
   ]
  },
  {
   "cell_type": "markdown",
   "id": "9b11784f",
   "metadata": {},
   "source": [
    "Scharr 연산자는 영상 처리에서 엣지 검출에 사용되는 연산자 중 하나아다. Scharr 연산자는 Sobel 연산자와 비슷한 방식으로 작동하지만, 더 좋은 성능을 제공한다.\n",
    "\n",
    "Scharr 연산자는 3x3 마스크로 구성되며, 각 마스크의 요소는 가중치로 사용된다. 마스크의 중앙 픽셀은 해당 픽셀에서의 엣지 강도를 계산하는 데 사용된다.\n",
    "\n",
    "Scharr 연산자는 x 방향과 y 방향 모두에 대해 각각 다른 마스크를 사용한다. x 방향의 마스크는 수평 방향의 엣지를 강조하고, y 방향의 마스크는 수직 방향의 엣지를 강조한다."
   ]
  },
  {
   "cell_type": "code",
   "execution_count": null,
   "id": "f3226d1a",
   "metadata": {},
   "outputs": [],
   "source": []
  }
 ],
 "metadata": {
  "kernelspec": {
   "display_name": "Python 3 (ipykernel)",
   "language": "python",
   "name": "python3"
  },
  "language_info": {
   "codemirror_mode": {
    "name": "ipython",
    "version": 3
   },
   "file_extension": ".py",
   "mimetype": "text/x-python",
   "name": "python",
   "nbconvert_exporter": "python",
   "pygments_lexer": "ipython3",
   "version": "3.10.6"
  }
 },
 "nbformat": 4,
 "nbformat_minor": 5
}
