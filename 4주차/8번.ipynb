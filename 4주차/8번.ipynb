{
 "cells": [
  {
   "cell_type": "code",
   "execution_count": 5,
   "id": "08f4f8e3",
   "metadata": {},
   "outputs": [],
   "source": [
    "import cv2 as cv\n",
    "\n",
    "img=cv.imread('soccer.jpg') # 영상 읽기\n",
    "\n",
    "gray=cv.cvtColor(img,cv.COLOR_BGR2GRAY)\n",
    "\n",
    "edges=cv.Canny(image=gray, threshold1=50, threshold2=150, apertureSize=3, L2gradient=False) # Tlow=50, Thigh=150으로 설정\n",
    "edges2=cv.Canny(image=gray, threshold1=100, threshold2=200, apertureSize=3, L2gradient=False) # Tlow=100, Thigh=200으로 설정\n",
    "\n",
    "cv.imshow('Canny1',edges)\n",
    "cv.imshow('Canny2',edges2)\n",
    "\n",
    "cv.waitKey()\n",
    "cv.destroyAllWindows()"
   ]
  },
  {
   "cell_type": "markdown",
   "id": "a2b85f03",
   "metadata": {},
   "source": [
    "image: Canny 알고리즘을 적용할 영상이다. 보통은 grayscale 영상을 사용한다.\n",
    "\n",
    "edges: Canny 알고리즘을 적용하여 얻은 엣지(경계선) 영상이다.\n",
    "\n",
    "threshold1과 threshold2: Canny 알고리즘의 엣지 검출 과정 중 gradient magnitude 값이 threshold1 보다 큰 지점을 strong edge로 판단한다. 그리고 이 strong edge들 중 threshold2보다 작은 값을 가지는 경계선은 최종적으로 엣지로 검출되지 않는다.\n",
    "\n",
    "apertureSize: Sobel 연산을 수행할 때 사용할 커널 크기이다. 보통 3x3, 5x5 등의 값을 사용한다.\n",
    "\n",
    "L2gradient: Canny 알고리즘에서 gradient magnitude를 계산할 때 L2 norm을 사용할지(True) L1 norm을 사용할지(False) 결정한다."
   ]
  },
  {
   "cell_type": "code",
   "execution_count": null,
   "id": "7888799c",
   "metadata": {},
   "outputs": [],
   "source": []
  }
 ],
 "metadata": {
  "kernelspec": {
   "display_name": "Python 3 (ipykernel)",
   "language": "python",
   "name": "python3"
  },
  "language_info": {
   "codemirror_mode": {
    "name": "ipython",
    "version": 3
   },
   "file_extension": ".py",
   "mimetype": "text/x-python",
   "name": "python",
   "nbconvert_exporter": "python",
   "pygments_lexer": "ipython3",
   "version": "3.10.6"
  }
 },
 "nbformat": 4,
 "nbformat_minor": 5
}
