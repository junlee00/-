{
 "cells": [
  {
   "cell_type": "code",
   "execution_count": null,
   "id": "f9dd6c71",
   "metadata": {},
   "outputs": [],
   "source": [
    "from PyQt5.QtWidgets import*\n",
    "import sys\n",
    "import cv2 as cv\n",
    "\n",
    "class Video(QMainWindow):\n",
    "    def __init__(self):\n",
    "        super().__init__()\n",
    "        self.setWindowTitle('비디오에서 프레임 수집')\n",
    "        self.setGeometry(200,200,500,100)\n",
    "        \n",
    "        videoButton=QPushButton('비디오 켜기',self)\n",
    "        captureButton=QPushButton('프레임 잡기',self)\n",
    "        saveButton=QPushButton('프레임 저장',self)\n",
    "        quitButton=QPushButton('나가기',self)\n",
    "        \n",
    "        videoButton.setGeometry(10,10,100,30)\n",
    "        captureButton.setGeometry(110,10,100,30)\n",
    "        saveButton.setGeometry(210,10,100,30)\n",
    "        quitButton.setGeometry(310,10,100,30)\n",
    "        \n",
    "        videoButton.clicked.connect(self.videoFunction)\n",
    "        captureButton.clicked.connect(self.captureFunction)\n",
    "        saveButton.clicked.connect(self.saveFunction)\n",
    "        quitButton.clicked.connect(self.quitFunction)\n",
    "        \n",
    "    def videoFunction(self):\n",
    "        self.cap=cv.VideoCapture(0,cv.CAP_DSHOW)\n",
    "        if not self.cap.isOpened():self.close()\n",
    "\n",
    "        while True:\n",
    "            ret,self.frame=self.cap.read()\n",
    "            if not ret:break\n",
    "            cv.imshow('video display',self.frame)\n",
    "            cv.waitKey(1)\n",
    "\n",
    "    def captureFunction(self):\n",
    "        self.capturedFrame=self.frame\n",
    "        cv.imshow('Captured Frame',self.capturedFrame)\n",
    "\n",
    "    def saveFunction(self):\n",
    "        fname=QFileDialog.getSaveFileName(self,'파일저장','/')\n",
    "        cv.imwrite(fname[0],self.capturedFrame)\n",
    "\n",
    "    def quitFunction(self):\n",
    "        self.cap.release()\n",
    "        cv.destroyAllWindows()\n",
    "        self.close()\n",
    "    \n",
    "app=QApplication(sys.argv)\n",
    "win=Video()\n",
    "win.show()\n",
    "app.exec_()"
   ]
  }
 ],
 "metadata": {
  "kernelspec": {
   "display_name": "Python 3 (ipykernel)",
   "language": "python",
   "name": "python3"
  },
  "language_info": {
   "codemirror_mode": {
    "name": "ipython",
    "version": 3
   },
   "file_extension": ".py",
   "mimetype": "text/x-python",
   "name": "python",
   "nbconvert_exporter": "python",
   "pygments_lexer": "ipython3",
   "version": "3.9.12"
  }
 },
 "nbformat": 4,
 "nbformat_minor": 5
}
