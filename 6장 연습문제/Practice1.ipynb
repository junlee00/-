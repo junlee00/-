{
 "cells": [
  {
   "cell_type": "code",
   "execution_count": 1,
   "id": "b441de5c",
   "metadata": {},
   "outputs": [
    {
     "data": {
      "text/plain": [
       "0"
      ]
     },
     "execution_count": 1,
     "metadata": {},
     "output_type": "execute_result"
    }
   ],
   "source": [
    "from PyQt5.QtWidgets import*\n",
    "import sys\n",
    "import winsound\n",
    "\n",
    "class BeepSound(QMainWindow):\n",
    "    def __init__(self):\n",
    "        super().__init__()\n",
    "        self.setWindowTitle('삑 소리 내기')\n",
    "        self.setGeometry(200,200,500,100)\n",
    "        \n",
    "        shortBeepButton=QPushButton('짧게 삑', self)\n",
    "        longBeepButton=QPushButton('길게 삑',self)\n",
    "        alarmButton=QPushButton('알람', self)\n",
    "        quitButton=QPushButton('나가기',self)\n",
    "        self.label=QLabel('환영합니다',self)\n",
    "        \n",
    "        shortBeepButton.setGeometry(10,10,100,30)\n",
    "        longBeepButton.setGeometry(120,10,100,30)\n",
    "        alarmButton.setGeometry(230,10,100,30)\n",
    "        quitButton.setGeometry(340,10,100,30)\n",
    "        self.label.setGeometry(10,40,500,70)\n",
    "        \n",
    "        shortBeepButton.clicked.connect(self.shortBeepFunction)\n",
    "        longBeepButton.clicked.connect(self.longBeepFunction)\n",
    "        alarmButton.clicked.connect(self.alarmFunction)\n",
    "        quitButton.clicked.connect(self.quitFunction)\n",
    "        \n",
    "    def shortBeepFunction(self):\n",
    "        self.label.setText('주파수 1000으로 0.5초동안 삑 소리를 냅니다.')\n",
    "        winsound.Beep(1000,500)\n",
    "        \n",
    "    def longBeepFunction(self):\n",
    "        self.label.setText('주파수 1000으로 3초동안 삑 소리를 냅니다.')\n",
    "        winsound.Beep(1000,3000)\n",
    "        \n",
    "    def alarmFunction(self):\n",
    "        self.label.setText('경고음을 재생합니다.')\n",
    "        winsound.PlaySound(\"SystemHand\", winsound.SND_ALIAS)\n",
    "        \n",
    "    def quitFunction(self):\n",
    "        self.close()\n",
    "\n",
    "app=QApplication(sys.argv)\n",
    "win=BeepSound()\n",
    "win.show()\n",
    "app.exec_()\n"
   ]
  },
  {
   "cell_type": "code",
   "execution_count": null,
   "id": "c753ae01",
   "metadata": {},
   "outputs": [],
   "source": []
  }
 ],
 "metadata": {
  "kernelspec": {
   "display_name": "Python 3 (ipykernel)",
   "language": "python",
   "name": "python3"
  },
  "language_info": {
   "codemirror_mode": {
    "name": "ipython",
    "version": 3
   },
   "file_extension": ".py",
   "mimetype": "text/x-python",
   "name": "python",
   "nbconvert_exporter": "python",
   "pygments_lexer": "ipython3",
   "version": "3.9.12"
  }
 },
 "nbformat": 4,
 "nbformat_minor": 5
}
