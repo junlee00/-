{
 "cells": [
  {
   "cell_type": "code",
   "execution_count": 6,
   "id": "8ea978e6",
   "metadata": {},
   "outputs": [
    {
     "ename": "SystemExit",
     "evalue": "카메라 연결 실패",
     "output_type": "error",
     "traceback": [
      "An exception has occurred, use %tb to see the full traceback.\n",
      "\u001b[1;31mSystemExit\u001b[0m\u001b[1;31m:\u001b[0m 카메라 연결 실패\n"
     ]
    }
   ],
   "source": [
    "import cv2 as cv\n",
    "import sys\n",
    "\n",
    "cap=cv.VideoCapture(0,cv.CAP_DSHOW)\n",
    "gray=False\n",
    "if not cap.isOpened():\n",
    "    sys.exit('카메라 연결 실패')\n",
    "    \n",
    "    \n",
    "frames=[] \n",
    "while True:\n",
    "    ret,frame=cap.read()\n",
    "    \n",
    "    if not ret:\n",
    "        print('프레임 획득에 실패하여 루프를 나갑니다')\n",
    "        break\n",
    "    if gray:\n",
    "        frame=cv.cvtColor(img, cv.COLOR_BGR2GRAY)\n",
    "    cv.imshow('Video display',frame)\n",
    "    \n",
    "    key=cv.waitKey(1)\n",
    "    \n",
    "    if key==ord('c'):\n",
    "        gray=False\n",
    "    elif key==ord('g'):\n",
    "        gray=True\n",
    "    elif key==ord('q'):\n",
    "        break\n",
    "cpa.release()\n",
    "cv.destroyAllWindows()"
   ]
  }
 ],
 "metadata": {
  "kernelspec": {
   "display_name": "Python 3 (ipykernel)",
   "language": "python",
   "name": "python3"
  },
  "language_info": {
   "codemirror_mode": {
    "name": "ipython",
    "version": 3
   },
   "file_extension": ".py",
   "mimetype": "text/x-python",
   "name": "python",
   "nbconvert_exporter": "python",
   "pygments_lexer": "ipython3",
   "version": "3.9.12"
  }
 },
 "nbformat": 4,
 "nbformat_minor": 5
}
