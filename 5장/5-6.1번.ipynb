{
 "cells": [
  {
   "cell_type": "code",
   "execution_count": 2,
   "id": "2b517aad",
   "metadata": {},
   "outputs": [],
   "source": [
    "import cv2 as cv\n",
    "import numpy as np\n",
    "\n",
    "# 이미지 읽기\n",
    "img = cv.imread('london.jpg')\n",
    "\n",
    "# 옥타브 값 설정\n",
    "octave = 0\n",
    "\n",
    "\n",
    "# 6개의 가우시안 필터 생성\n",
    "ksize = 3\n",
    "sigma = 1.6\n",
    "gauss_pyr = [cv.cvtColor(img, cv.COLOR_BGR2GRAY)]\n",
    "for i in range(6):\n",
    "    gauss_pyr.append(cv.GaussianBlur(gauss_pyr[i], (ksize, ksize), sigma))\n",
    "\n",
    "# 5개의 DoG 필터 생성\n",
    "dog_pyr = []\n",
    "for i in range(5):\n",
    "    dog_pyr.append(cv.absdiff(gauss_pyr[i], gauss_pyr[i+1]))\n",
    "\n",
    "# 결과 영상 디스플레이\n",
    "for i in range(6):\n",
    "    cv.imshow('Gaussian Image Level ' + str(i+1), gauss_pyr[i])\n",
    "for i in range(5):\n",
    "    cv.imshow('DoG Image Level ' + str(i+1), dog_pyr[i])\n",
    "\n",
    "cv.waitKey()\n",
    "cv.destroyAllWindows()"
   ]
  }
 ],
 "metadata": {
  "kernelspec": {
   "display_name": "Python 3 (ipykernel)",
   "language": "python",
   "name": "python3"
  },
  "language_info": {
   "codemirror_mode": {
    "name": "ipython",
    "version": 3
   },
   "file_extension": ".py",
   "mimetype": "text/x-python",
   "name": "python",
   "nbconvert_exporter": "python",
   "pygments_lexer": "ipython3",
   "version": "3.10.6"
  }
 },
 "nbformat": 4,
 "nbformat_minor": 5
}
