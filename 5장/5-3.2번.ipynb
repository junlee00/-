{
 "cells": [
  {
   "cell_type": "code",
   "execution_count": 24,
   "id": "f566e860",
   "metadata": {},
   "outputs": [],
   "source": [
    "import cv2 as cv\n",
    "\n",
    "img = cv.imread('mot_color70.jpg') # 영상 읽기\n",
    "gray = cv.cvtColor(img, cv.COLOR_BGR2GRAY)\n",
    "\n",
    "nfeatures = [4, 8, 16, 32, 64, 128, 512]\n",
    "\n",
    "for n in nfeatures:\n",
    "    sift = cv.SIFT_create(nfeatures=n)\n",
    "    kp, des = sift.detectAndCompute(gray, None)\n",
    "\n",
    "    gray = cv.drawKeypoints(gray,kp,None,flags=cv.DRAW_MATCHES_FLAGS_DRAW_RICH_KEYPOINTS)\n",
    "    cv.imshow('sift_{}'.format(n),gray)\n",
    "\n",
    "k=cv.waitKey()\n",
    "cv.destroyAllWindows()"
   ]
  },
  {
   "cell_type": "markdown",
   "id": "519984d7",
   "metadata": {},
   "source": [
    "'sift_{}'.format(n)은 윈도우 이름으로 사용된다. {}는 문자열 포맷팅을 위한 공간을 뜻하며, format(n)은 {}에 변수 n을 삽입하는 방식으로 문자열을 만든다."
   ]
  }
 ],
 "metadata": {
  "kernelspec": {
   "display_name": "Python 3 (ipykernel)",
   "language": "python",
   "name": "python3"
  },
  "language_info": {
   "codemirror_mode": {
    "name": "ipython",
    "version": 3
   },
   "file_extension": ".py",
   "mimetype": "text/x-python",
   "name": "python",
   "nbconvert_exporter": "python",
   "pygments_lexer": "ipython3",
   "version": "3.10.6"
  }
 },
 "nbformat": 4,
 "nbformat_minor": 5
}
