{
 "cells": [
  {
   "cell_type": "code",
   "execution_count": 3,
   "id": "10278005",
   "metadata": {},
   "outputs": [],
   "source": [
    "import cv2 as cv\n",
    "import numpy as np\n",
    "\n",
    "# 이미지 읽기\n",
    "img = cv.imread('london.jpg')\n",
    "\n",
    "# 옥타브 값 설정\n",
    "octave = 0\n",
    "n_levels = 5 # 옥타브를 구성하는 가우시안 영상의 갯수\n",
    "\n",
    "# 가우시안 필터 생성\n",
    "ksize = 3\n",
    "sigma = 1.6\n",
    "gauss_pyr = [cv.cvtColor(img, cv.COLOR_BGR2GRAY)]\n",
    "\n",
    "for i in range(n_levels-1):\n",
    "    sigma_f = np.sqrt(sigma ** 2 - (sigma / 2) ** 2)  # 다음 레벨의 시그마 계산\n",
    "    ksize_f = int(2 * np.ceil(3 * sigma_f) + 1)  # 커널 사이즈 계산\n",
    "    gauss_pyr.append(cv.GaussianBlur(gauss_pyr[i], (ksize_f, ksize_f), sigma_f))\n",
    "\n",
    "# DoG 필터 생성\n",
    "dog_pyr = []\n",
    "for i in range(n_levels-1):\n",
    "    dog_pyr.append(cv.absdiff(gauss_pyr[i], gauss_pyr[i+1]))\n",
    "\n",
    "# 결과 영상 디스플레이\n",
    "for i in range(n_levels):\n",
    "    cv.imshow('Gaussian Image Level ' + str(i+1), gauss_pyr[i])\n",
    "for i in range(n_levels-1):\n",
    "    cv.imshow('DoG Image Level ' + str(i+1), dog_pyr[i])\n",
    "\n",
    "cv.waitKey()\n",
    "cv.destroyAllWindows()\n"
   ]
  }
 ],
 "metadata": {
  "kernelspec": {
   "display_name": "Python 3 (ipykernel)",
   "language": "python",
   "name": "python3"
  },
  "language_info": {
   "codemirror_mode": {
    "name": "ipython",
    "version": 3
   },
   "file_extension": ".py",
   "mimetype": "text/x-python",
   "name": "python",
   "nbconvert_exporter": "python",
   "pygments_lexer": "ipython3",
   "version": "3.10.6"
  }
 },
 "nbformat": 4,
 "nbformat_minor": 5
}
